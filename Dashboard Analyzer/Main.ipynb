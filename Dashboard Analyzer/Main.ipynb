{
 "cells": [
  {
   "cell_type": "markdown",
   "metadata": {},
   "source": [
    "<h4> Packages"
   ]
  },
  {
   "cell_type": "code",
   "execution_count": 6,
   "metadata": {},
   "outputs": [],
   "source": [
    "import requests\n",
    "import re"
   ]
  },
  {
   "cell_type": "markdown",
   "metadata": {},
   "source": [
    "<h4> Load content"
   ]
  },
  {
   "cell_type": "code",
   "execution_count": 7,
   "metadata": {},
   "outputs": [],
   "source": [
    "\n",
    "path = r\"C:\\Users\\asus\\Desktop\\MAHDI,Central\\Programming\\github\\Repositories\\school-mini-project\\Dashboard Analyzer\\داشبورد تحلیل یادگیری - کلاس آنلاین شیمی دهم (1).html\"\n",
    "# 24\n",
    "with open(path, encoding=\"utf-8\") as f:\n",
    "    content = \"\"\n",
    "    i = 0\n",
    "    for line in f:\n",
    "        \n",
    "        i += 1\n",
    "\n",
    "        if i == 24:\n",
    "            content = line\n",
    "\n"
   ]
  },
  {
   "cell_type": "markdown",
   "metadata": {},
   "source": [
    "<h4> Extract from attribute Function\n",
    "\n",
    "    - تابع استخراج از روی متن با یک مشخصه"
   ]
  },
  {
   "cell_type": "code",
   "execution_count": 8,
   "metadata": {},
   "outputs": [],
   "source": [
    "\n",
    "\n",
    "def Extract(content, startAttribute, endAttribute=None, LenForEndAttribute=None ):\n",
    "    startIndexes = [_.start() for _ in re.finditer(startAttribute, content)]\n",
    "\n",
    "    if endAttribute and LenForEndAttribute:\n",
    "        raise ValueError(\"you cant get value to endAttribute and LenForEndAttribute both\")\n",
    "\n",
    "    elif endAttribute:\n",
    "        result = []\n",
    "        for index in startIndexes:\n",
    "            pharse_start = index+len(startAttribute)\n",
    "            end = content[pharse_start:].find(endAttribute)\n",
    "            pharse = content[pharse_start:pharse_start+end].replace(\"\\u200c\", \" \")\n",
    "            result.append(pharse)\n",
    "\n",
    "        return result\n",
    "\n",
    "    elif LenForEndAttribute:\n",
    "        result = []\n",
    "        for index in startIndexes:\n",
    "            pharse_start = index+len(startAttribute)\n",
    "            result.append(content[pharse_start:pharse_start+LenForEndAttribute])\n"
   ]
  },
  {
   "cell_type": "code",
   "execution_count": 9,
   "metadata": {},
   "outputs": [
    {
     "name": "stdout",
     "output_type": "stream",
     "text": [
      "['۸ اسفند ۱۴۰۰']\n"
     ]
    }
   ],
   "source": [
    "# date تاریخ\n",
    "\n",
    "attr = \"mt-3 col-text-right py-1 text-gray-500 inline-block\\\"><p class=\\\"font-bold\\\"><div class=\\\"inline\\\">\"\n",
    "date = Extract(content, attr, \"<\")\n",
    "\n",
    "print(date)\n"
   ]
  },
  {
   "cell_type": "code",
   "execution_count": 10,
   "metadata": {},
   "outputs": [
    {
     "name": "stdout",
     "output_type": "stream",
     "text": [
      "مهدی کمالی\n",
      "ارشیا توفیقیان\n",
      "امیرآرشام حسین خان قزل ایاق\n",
      "امیرحسین جلالیان\n",
      "امیرحسین دارستانی فراهانی\n",
      "امیرحسین دارستانی فراهانی\n",
      "امیرعلی سیمائی\n",
      "امیرمحمد هدایتی\n",
      "امیرپارسا کمانی\n",
      "امین مظاهریان\n",
      "امین مظاهریان\n",
      "امین مظاهریان\n",
      "ایلیا روستا\n",
      "ایلیا عبیدی\n",
      "بردیا بورونی\n",
      "رامیار شهرخی\n",
      "سیاوش خضری\n",
      "سیدمحمدعلی میردامادی\n",
      "سیدهادی میرتاج الدینی\n",
      "سیدهادی میرتاج الدینی\n",
      "سید محمد حسین مهدوی\n",
      "علی دشتی\n",
      "علی دیانی\n",
      "علی روشناس\n",
      "علی فتوحی فیروزآباد\n",
      "محمدطه کاتبی\n",
      "محمدمهدی حمصی اصفهانی\n",
      "محمدپارسا رستگارمقدم\n",
      "محمد حسین طراوتی\n",
      "نیکان توکلی\n",
      "نیک آیین لهراسبی\n",
      "هومان ایران پناه\n",
      "پارسا خداوردی\n",
      "پدرام تفنگچیها\n",
      "پویان کنی\n",
      "یاسر وکیلی\n"
     ]
    }
   ],
   "source": [
    "# Names نام ها\n",
    "\n",
    "names = Extract(content, \"xl:max-w-sm max-w-xs\\\">\", \"<\")\n",
    "\n",
    "# print(names)\n",
    "\n",
    "for name in names:\n",
    "    print(name)\n"
   ]
  },
  {
   "cell_type": "code",
   "execution_count": 11,
   "metadata": {},
   "outputs": [
    {
     "name": "stdout",
     "output_type": "stream",
     "text": [
      "['00:50:42', '00:45:48', '00:46:20', '00:46:45', '00:43:27', '00:00:55', '00:47:29', '00:49:23', '00:48:02', '00:44:02', '00:05:52', '00:03:08', '00:47:19', '00:48:12', '00:49:10', '00:12:59', '00:47:39', '00:47:13', '00:26:23', '00:32:54', '00:46:03', '00:46:08', '00:47:33', '00:48:09', '00:25:31', '00:46:59', '00:46:43', '00:47:53', '00:45:17', '00:46:38', '00:14:44', '00:47:34', '00:33:44', '00:37:57', '00:47:06', '00:05:29']\n"
     ]
    }
   ],
   "source": [
    "# online duration زمان آنلاین بودن\n",
    "\n",
    "attr = \"\\\"M5.636 18.364a9 9 0 010-12.728m12.728 0a9 9 0 010 12.728m-9.9-2.829a5 5 0 010-7.07m7.072 0a5 5 0 010 7.07M13 12a1 1 0 11-2 0 1 1 0 012 0z\\\"></path></svg> \"\n",
    "dur = Extract(content, attr, \"<br>\")\n",
    "\n",
    "print(dur)\n"
   ]
  },
  {
   "cell_type": "code",
   "execution_count": 12,
   "metadata": {},
   "outputs": [],
   "source": [
    "\n",
    "def SpliteContent(content, SplitAttr):\n",
    "    splited_content = []\n",
    "    startIndexes = [_.start() for _ in re.finditer(SplitAttr, content)]\n",
    "\n",
    "    i = 0\n",
    "    for index in startIndexes:\n",
    "        if i < (len(startIndexes)):\n",
    "            # 0 to -2\n",
    "            try:\n",
    "                splited_part = content[startIndexes[i]: startIndexes[i+1]]\n",
    "                splited_content.append(splited_part)\n",
    "                i += 1\n",
    "            # -1 to end\n",
    "            except:\n",
    "                splited_part = content[startIndexes[i]:]\n",
    "                splited_content.append(splited_part)\n",
    "                \n",
    "    return splited_content\n",
    "\n",
    "\n",
    "\n",
    "def IsExistenceInListPerItem(List, string):\n",
    "    existence = []\n",
    "    for item in List:\n",
    "        if string in item:\n",
    "            existence.append(True)\n",
    "        else:\n",
    "            existence.append(False)\n",
    "\n",
    "    return existence\n",
    "\n"
   ]
  },
  {
   "cell_type": "code",
   "execution_count": 34,
   "metadata": {},
   "outputs": [],
   "source": [
    "\n",
    "# specific function fot this program\n",
    "def ExsistAttr_ValueNone(content, SpliteAttribute, DesireAttribute):\n",
    "    splitedContent = SpliteContent(content, SpliteAttribute)\n",
    "    speakedOrNot = IsExistenceInListPerItem(splitedContent, DesireAttribute)\n",
    "\n",
    "    Value_None = []\n",
    "\n",
    "    index = 0\n",
    "    for part in splitedContent:\n",
    "        if speakedOrNot[index]:\n",
    "            Time = Extract(part, DesireAttribute, \"<\")\n",
    "            Value_None.append(Time[0])\n",
    "            index += 1\n",
    "\n",
    "        else:\n",
    "            Value_None.append(None)\n",
    "            index += 1\n",
    "\n",
    "    return Value_None\n"
   ]
  },
  {
   "cell_type": "code",
   "execution_count": 35,
   "metadata": {},
   "outputs": [
    {
     "name": "stdout",
     "output_type": "stream",
     "text": [
      "['00:33:49', None, '00:07:18', None, '00:00:19', None, '00:01:27', '00:00:21', '00:00:32', '00:01:05', None, None, None, '00:01:45', '00:00:11', None, '00:00:20', None, None, None, None, None, None, None, None, None, '00:00:34', '00:00:54', None, '00:00:05', None, None, None, '00:01:27', None, None]\n"
     ]
    }
   ],
   "source": [
    "# speaking time زمان صحبت کردن\n",
    "\n",
    "NameAttr = \"xl:max-w-sm max-w-xs\\\">\"\n",
    "SpeakAttr = \"\\\"M19 11a7 7 0 01-7 7m0 0a7 7 0 01-7-7m7 7v4m0 0H8m4 0h4m-4-8a3 3 0 01-3-3V5a3 3 0 116 0v6a3 3 0 01-3 3z\\\"></path></svg> \"\n",
    "\n",
    "speakingTime = ExsistAttr_ValueNone(content, NameAttr, SpeakAttr) \n",
    "\n",
    "print(speakingTime)\n",
    "\n"
   ]
  },
  {
   "cell_type": "code",
   "execution_count": 37,
   "metadata": {},
   "outputs": [
    {
     "name": "stdout",
     "output_type": "stream",
     "text": [
      "['00:47:57', None, '00:11:53', None, None, None, '00:09:39', None, None, '00:04:19', None, None, None, None, None, None, None, None, None, None, None, None, None, None, None, None, None, '00:02:52', None, None, None, None, None, '00:12:56', None, None]\n"
     ]
    }
   ],
   "source": [
    "# Camera time زمان دوربین دادن\n",
    "\n",
    "NameAttr = \"xl:max-w-sm max-w-xs\\\">\"\n",
    "CamTime = \"M15 10l4.553-2.276A1 1 0 0121 8.618v6.764a1 1 0 01-1.447.894L15 14M5 18h8a2 2 0 002-2V8a2 2 0 00-2-2H5a2 2 0 00-2 2v8a2 2 0 002 2z\\\"></path></svg> \"\n",
    "\n",
    "cameraTime = ExsistAttr_ValueNone(content, NameAttr, CamTime)\n",
    "print(cameraTime)\n",
    "\n"
   ]
  },
  {
   "cell_type": "code",
   "execution_count": 41,
   "metadata": {},
   "outputs": [
    {
     "name": "stdout",
     "output_type": "stream",
     "text": [
      "['5', '16', '3', '5', '7', None, '6', '13', '4', '3', None, '1', '9', '6', '30', '1', '13', '5', '2', '1', '12', '5', '5', '6', '2', '7', '17', '9', '3', '5', '1', '8', '2', '4', '9', '2']\n"
     ]
    }
   ],
   "source": [
    "# Messages پیام ها \n",
    "\n",
    "NameAttr = \"xl:max-w-sm max-w-xs\\\">\"\n",
    "ChatAttr = \"M8 12h.01M12 12h.01M16 12h.01M21 12c0 4.418-4.03 8-9 8a9.863 9.863 0 01-4.255-.949L3 20l1.395-3.72C3.512 15.042 3 13.574 3 12c0-4.418 4.03-8 9-8s9 3.582 9 8z\\\"></path></svg> \"\n",
    "\n",
    "NumOfChat = ExsistAttr_ValueNone(content, NameAttr, ChatAttr)\n",
    "print(NumOfChat)\n",
    "\n",
    "# Point : items are string but they are int\n"
   ]
  },
  {
   "cell_type": "code",
   "execution_count": 42,
   "metadata": {},
   "outputs": [
    {
     "name": "stdout",
     "output_type": "stream",
     "text": [
      "[None, None, None, None, '2', None, '2', '1', '3', None, None, None, None, '1', '3', None, '2', None, None, None, None, None, None, None, None, None, '6', None, None, None, None, None, None, '1', None, None]\n"
     ]
    }
   ],
   "source": [
    "# Raise Hand دست بلند کردن\n",
    "\n",
    "NameAttr = \"xl:max-w-sm max-w-xs\\\">\"\n",
    "RaiseHand = \"M7 11.5V14m0-2.5v-6a1.5 1.5 0 113 0m-3 6a1.5 1.5 0 00-3 0v2a7.5 7.5 0 0015 0v-5a1.5 1.5 0 00-3 0m-6-3V11m0-5.5v-1a1.5 1.5 0 013 0v1m0 0V11m0-5.5a1.5 1.5 0 013 0v3m0 0V11\\\"></path></svg> \"\n",
    "\n",
    "NumOfHand = ExsistAttr_ValueNone(content, NameAttr, RaiseHand)\n",
    "print(NumOfHand)\n",
    "\n",
    "\n"
   ]
  },
  {
   "cell_type": "code",
   "execution_count": null,
   "metadata": {},
   "outputs": [],
   "source": []
  }
 ],
 "metadata": {
  "interpreter": {
   "hash": "06cb67651ce969e244f20f184e33f4ddb1106793adfe07cf7ddc131c95c4012f"
  },
  "kernelspec": {
   "display_name": "Python 3.9.2 64-bit",
   "language": "python",
   "name": "python3"
  },
  "language_info": {
   "codemirror_mode": {
    "name": "ipython",
    "version": 3
   },
   "file_extension": ".py",
   "mimetype": "text/x-python",
   "name": "python",
   "nbconvert_exporter": "python",
   "pygments_lexer": "ipython3",
   "version": "3.9.2"
  },
  "orig_nbformat": 4
 },
 "nbformat": 4,
 "nbformat_minor": 2
}
